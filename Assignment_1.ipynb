{
  "nbformat": 4,
  "nbformat_minor": 0,
  "metadata": {
    "colab": {
      "provenance": []
    },
    "kernelspec": {
      "name": "python3",
      "display_name": "Python 3"
    },
    "language_info": {
      "name": "python"
    }
  },
  "cells": [
    {
      "cell_type": "markdown",
      "source": [
        "Internship Assignment\n"
      ],
      "metadata": {
        "id": "rl7pXrRe55ou"
      }
    },
    {
      "cell_type": "code",
      "execution_count": null,
      "metadata": {
        "id": "_tZhBdc84l8L"
      },
      "outputs": [],
      "source": [
        "#Importing required libraries\n",
        "\n",
        "import json\n",
        "from datetime import datetime\n",
        "import csv\n",
        "import os"
      ]
    },
    {
      "cell_type": "code",
      "source": [
        "#Assign File path\n",
        "\n",
        "patient_file = \"/content/Patient.ndjson\"\n",
        "condition_file = \"/content/Condition.ndjson\"\n",
        "encounter_file = \"/content/Encounter.ndjson\"\n",
        "encounter_icu_file = \"/content/EncounterICU.ndjson\""
      ],
      "metadata": {
        "id": "H1TW1Y9QGZpw"
      },
      "execution_count": null,
      "outputs": []
    },
    {
      "cell_type": "code",
      "source": [
        "# function to convert Unix Timestamp\n",
        "\n",
        "def to_unix(timestamp):\n",
        "   return int(datetime.strptime(timestamp, \"%Y-%m-%dT%H:%M:%S%z\").timestamp())"
      ],
      "metadata": {
        "id": "DC-QJ7_87xqU"
      },
      "execution_count": null,
      "outputs": []
    },
    {
      "cell_type": "code",
      "source": [
        "# Function to read and parse JSON files\n",
        "\n",
        "def read_json(file_path):\n",
        "    data = []\n",
        "    # Created an empty list to store json file data\n",
        "    with open(file_path, \"r\") as f:\n",
        "        for line in f:\n",
        "            json_data = json.loads(line)\n",
        "            data.append(json_data)\n",
        "    # we will read the file and return a list of dictionaries\n",
        "    return data"
      ],
      "metadata": {
        "id": "i_t97jf6BWpP"
      },
      "execution_count": null,
      "outputs": []
    },
    {
      "cell_type": "code",
      "source": [
        "# Our output csv file where we will store the data\n",
        "\n",
        "output_csv = \"/content/output_csv.csv\""
      ],
      "metadata": {
        "id": "C1tGA25kB_c0"
      },
      "execution_count": null,
      "outputs": []
    },
    {
      "cell_type": "code",
      "source": [
        "# Storing our json data in variables\n",
        "\n",
        "patients = read_json(patient_file)\n",
        "conditions = read_json(condition_file)\n",
        "encounters = read_json(encounter_file)\n",
        "encounters_icu = read_json(encounter_icu_file)"
      ],
      "metadata": {
        "id": "s-6iak4SG828"
      },
      "execution_count": null,
      "outputs": []
    },
    {
      "cell_type": "code",
      "source": [
        "# Creating a dictionary to hold patient id and thire associated conditions\n",
        "\n",
        "patient_conditions = {}\n",
        "for condition in conditions:\n",
        "    patient_id = condition['subject']['reference'].split('/')[-1]\n",
        "    condition_data = {\n",
        "        'code': condition['code']['coding'][0]['code'],\n",
        "        'description': condition['code']['coding'][0]['display']\n",
        "    }\n",
        "    if patient_id in patient_conditions:\n",
        "        patient_conditions[patient_id].append(condition_data)\n",
        "    else:\n",
        "        patient_conditions[patient_id] = [condition_data]"
      ],
      "metadata": {
        "id": "z2yWTfhLUYQz"
      },
      "execution_count": null,
      "outputs": []
    },
    {
      "cell_type": "code",
      "source": [
        "# Creating a dictionary to store timestamps\n",
        "\n",
        "patient_condition_timestamps = []\n",
        "all_encounters = encounters + encounters_icu\n",
        "for patient_id, conditions_list in patient_conditions.items():\n",
        "    for condition in conditions_list:\n",
        "        condition_code = condition['code']\n",
        "        for encounter in all_encounters:\n",
        "            if encounter['subject']['reference'].split('/')[-1] == patient_id:\n",
        "                encounter_start_time = encounter['period']['start']\n",
        "                patient_condition_timestamps.append({\n",
        "                    'pid': patient_id,\n",
        "                    'time': encounter_start_time,\n",
        "                    'code': condition_code,\n",
        "                    'description': condition['description']\n",
        "                })\n",
        "                break"
      ],
      "metadata": {
        "id": "-qLEKTcAUhHT"
      },
      "execution_count": null,
      "outputs": []
    },
    {
      "cell_type": "markdown",
      "source": [
        "Final Ouput file"
      ],
      "metadata": {
        "id": "0vO8ZtKwdPD1"
      }
    },
    {
      "cell_type": "code",
      "source": [
        "with open(output_csv, mode='w', newline='') as csv_file:\n",
        "    fieldnames = ['pid', 'time', 'code', 'description']\n",
        "    writer = csv.DictWriter(csv_file, fieldnames=fieldnames)\n",
        "\n",
        "    writer.writeheader()\n",
        "    for record in patient_condition_timestamps:\n",
        "        record['time'] = to_unix(record['time'])\n",
        "        writer.writerow(record)\n",
        "\n",
        "print(\"ouptut csv file generated\")"
      ],
      "metadata": {
        "colab": {
          "base_uri": "https://localhost:8080/"
        },
        "id": "00G0LYtiUlKk",
        "outputId": "3db21479-37b0-4884-fb7e-d8c9bbdeb675"
      },
      "execution_count": null,
      "outputs": [
        {
          "output_type": "stream",
          "name": "stdout",
          "text": [
            "ouptut csv file generated\n"
          ]
        }
      ]
    },
    {
      "cell_type": "code",
      "source": [],
      "metadata": {
        "id": "_vFbkIMYVfsX"
      },
      "execution_count": null,
      "outputs": []
    }
  ]
}